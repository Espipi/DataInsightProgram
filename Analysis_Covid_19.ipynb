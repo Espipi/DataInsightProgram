{
 "cells": [
  {
   "cell_type": "code",
   "execution_count": 193,
   "metadata": {},
   "outputs": [],
   "source": [
    "#Import libraries such as pandas matplotlib and seaborn \n",
    "import pandas as pd\n",
    "import numpy as np\n",
    "import matplotlib.pyplot as plt\n",
    "import seaborn as sns\n",
    "sns.set_style(\"ticks\")"
   ]
  },
  {
   "cell_type": "markdown",
   "metadata": {},
   "source": [
    "## Description of data\n",
    "For this report, we decided to use two databases: a quantitative database from **https://covid.ourworldindata.org** and a qualitative database from a survey on **https://data.humdata.org**. This analysis will be done on two countries: $ Ghana $ and $ Rwanda $ . We have extracted from the two global databases the parameters measured for these two countries. "
   ]
  },
  {
   "cell_type": "markdown",
   "metadata": {},
   "source": [
    "#### _Dataset n°1_"
   ]
  },
  {
   "cell_type": "code",
   "execution_count": 194,
   "metadata": {},
   "outputs": [],
   "source": [
    "data1 = pd.read_excel(\"https://covid.ourworldindata.org/data/owid-covid-data.xlsx\", \n",
    "                    parse_dates=['date'])"
   ]
  },
  {
   "cell_type": "code",
   "execution_count": 195,
   "metadata": {},
   "outputs": [
    {
     "data": {
      "text/html": [
       "<div>\n",
       "<style scoped>\n",
       "    .dataframe tbody tr th:only-of-type {\n",
       "        vertical-align: middle;\n",
       "    }\n",
       "\n",
       "    .dataframe tbody tr th {\n",
       "        vertical-align: top;\n",
       "    }\n",
       "\n",
       "    .dataframe thead th {\n",
       "        text-align: right;\n",
       "    }\n",
       "</style>\n",
       "<table border=\"1\" class=\"dataframe\">\n",
       "  <thead>\n",
       "    <tr style=\"text-align: right;\">\n",
       "      <th></th>\n",
       "      <th>iso_code</th>\n",
       "      <th>location</th>\n",
       "      <th>date</th>\n",
       "      <th>total_cases</th>\n",
       "      <th>new_cases</th>\n",
       "      <th>total_deaths</th>\n",
       "      <th>new_deaths</th>\n",
       "      <th>total_cases_per_million</th>\n",
       "      <th>new_cases_per_million</th>\n",
       "      <th>total_deaths_per_million</th>\n",
       "      <th>new_deaths_per_million</th>\n",
       "      <th>total_tests</th>\n",
       "      <th>new_tests</th>\n",
       "      <th>total_tests_per_thousand</th>\n",
       "      <th>new_tests_per_thousand</th>\n",
       "      <th>tests_units</th>\n",
       "    </tr>\n",
       "  </thead>\n",
       "  <tbody>\n",
       "    <tr>\n",
       "      <th>0</th>\n",
       "      <td>ABW</td>\n",
       "      <td>Aruba</td>\n",
       "      <td>2020-03-13</td>\n",
       "      <td>2</td>\n",
       "      <td>2</td>\n",
       "      <td>0</td>\n",
       "      <td>0</td>\n",
       "      <td>18.733</td>\n",
       "      <td>18.733</td>\n",
       "      <td>0.0</td>\n",
       "      <td>0.0</td>\n",
       "      <td>NaN</td>\n",
       "      <td>NaN</td>\n",
       "      <td>NaN</td>\n",
       "      <td>NaN</td>\n",
       "      <td>NaN</td>\n",
       "    </tr>\n",
       "    <tr>\n",
       "      <th>1</th>\n",
       "      <td>ABW</td>\n",
       "      <td>Aruba</td>\n",
       "      <td>2020-03-20</td>\n",
       "      <td>4</td>\n",
       "      <td>2</td>\n",
       "      <td>0</td>\n",
       "      <td>0</td>\n",
       "      <td>37.465</td>\n",
       "      <td>18.733</td>\n",
       "      <td>0.0</td>\n",
       "      <td>0.0</td>\n",
       "      <td>NaN</td>\n",
       "      <td>NaN</td>\n",
       "      <td>NaN</td>\n",
       "      <td>NaN</td>\n",
       "      <td>NaN</td>\n",
       "    </tr>\n",
       "    <tr>\n",
       "      <th>2</th>\n",
       "      <td>ABW</td>\n",
       "      <td>Aruba</td>\n",
       "      <td>2020-03-24</td>\n",
       "      <td>12</td>\n",
       "      <td>8</td>\n",
       "      <td>0</td>\n",
       "      <td>0</td>\n",
       "      <td>112.395</td>\n",
       "      <td>74.930</td>\n",
       "      <td>0.0</td>\n",
       "      <td>0.0</td>\n",
       "      <td>NaN</td>\n",
       "      <td>NaN</td>\n",
       "      <td>NaN</td>\n",
       "      <td>NaN</td>\n",
       "      <td>NaN</td>\n",
       "    </tr>\n",
       "  </tbody>\n",
       "</table>\n",
       "</div>"
      ],
      "text/plain": [
       "  iso_code location       date  total_cases  new_cases  total_deaths  \\\n",
       "0      ABW    Aruba 2020-03-13            2          2             0   \n",
       "1      ABW    Aruba 2020-03-20            4          2             0   \n",
       "2      ABW    Aruba 2020-03-24           12          8             0   \n",
       "\n",
       "   new_deaths  total_cases_per_million  new_cases_per_million  \\\n",
       "0           0                   18.733                 18.733   \n",
       "1           0                   37.465                 18.733   \n",
       "2           0                  112.395                 74.930   \n",
       "\n",
       "   total_deaths_per_million  new_deaths_per_million  total_tests  new_tests  \\\n",
       "0                       0.0                     0.0          NaN        NaN   \n",
       "1                       0.0                     0.0          NaN        NaN   \n",
       "2                       0.0                     0.0          NaN        NaN   \n",
       "\n",
       "   total_tests_per_thousand  new_tests_per_thousand tests_units  \n",
       "0                       NaN                     NaN         NaN  \n",
       "1                       NaN                     NaN         NaN  \n",
       "2                       NaN                     NaN         NaN  "
      ]
     },
     "execution_count": 195,
     "metadata": {},
     "output_type": "execute_result"
    }
   ],
   "source": [
    "data1.head(3)"
   ]
  },
  {
   "cell_type": "code",
   "execution_count": 196,
   "metadata": {},
   "outputs": [
    {
     "name": "stdout",
     "output_type": "stream",
     "text": [
      "<class 'pandas.core.frame.DataFrame'>\n",
      "RangeIndex: 14092 entries, 0 to 14091\n",
      "Data columns (total 16 columns):\n",
      " #   Column                    Non-Null Count  Dtype         \n",
      "---  ------                    --------------  -----         \n",
      " 0   iso_code                  13907 non-null  object        \n",
      " 1   location                  14092 non-null  object        \n",
      " 2   date                      14092 non-null  datetime64[ns]\n",
      " 3   total_cases               14092 non-null  int64         \n",
      " 4   new_cases                 14092 non-null  int64         \n",
      " 5   total_deaths              14092 non-null  int64         \n",
      " 6   new_deaths                14092 non-null  int64         \n",
      " 7   total_cases_per_million   13804 non-null  float64       \n",
      " 8   new_cases_per_million     13804 non-null  float64       \n",
      " 9   total_deaths_per_million  13804 non-null  float64       \n",
      " 10  new_deaths_per_million    13804 non-null  float64       \n",
      " 11  total_tests               3462 non-null   float64       \n",
      " 12  new_tests                 3082 non-null   float64       \n",
      " 13  total_tests_per_thousand  3462 non-null   float64       \n",
      " 14  new_tests_per_thousand    3086 non-null   float64       \n",
      " 15  tests_units               3462 non-null   object        \n",
      "dtypes: datetime64[ns](1), float64(8), int64(4), object(3)\n",
      "memory usage: 1.7+ MB\n"
     ]
    }
   ],
   "source": [
    "data1.info()"
   ]
  },
  {
   "cell_type": "markdown",
   "metadata": {},
   "source": [
    "**The database (data1) provides a trend in the number of infections, number of deaths, etc. from different countries. The database contains 13883 lines and 16 variables.**\n"
   ]
  },
  {
   "cell_type": "markdown",
   "metadata": {},
   "source": [
    "#### _Dataset n°2_"
   ]
  },
  {
   "cell_type": "code",
   "execution_count": 197,
   "metadata": {},
   "outputs": [],
   "source": [
    "data2 = pd.read_excel(\"https://data.humdata.org/dataset/24144abc-c60c-4bdd-b123-2bb08f184765/resource/ab241169-4467-4a89-8e85-e9384ad22c52/download/geopoll-coronavirus-round2-data.xlsx\", \n",
    "                      header=2, parse_dates=['Survey Date'])\n"
   ]
  },
  {
   "cell_type": "code",
   "execution_count": 198,
   "metadata": {},
   "outputs": [
    {
     "data": {
      "text/html": [
       "<div>\n",
       "<style scoped>\n",
       "    .dataframe tbody tr th:only-of-type {\n",
       "        vertical-align: middle;\n",
       "    }\n",
       "\n",
       "    .dataframe tbody tr th {\n",
       "        vertical-align: top;\n",
       "    }\n",
       "\n",
       "    .dataframe thead th {\n",
       "        text-align: right;\n",
       "    }\n",
       "</style>\n",
       "<table border=\"1\" class=\"dataframe\">\n",
       "  <thead>\n",
       "    <tr style=\"text-align: right;\">\n",
       "      <th></th>\n",
       "      <th>Survey Date</th>\n",
       "      <th>Country</th>\n",
       "      <th>Admin1</th>\n",
       "      <th>BirthYear</th>\n",
       "      <th>Gender</th>\n",
       "      <th>Awareness</th>\n",
       "      <th>Urban/Rural</th>\n",
       "      <th>BiggestChallenge</th>\n",
       "      <th>LevelConcern</th>\n",
       "      <th>Concerns</th>\n",
       "      <th>...</th>\n",
       "      <th>InformationSources: Friends/family</th>\n",
       "      <th>InformationSources: Government messages</th>\n",
       "      <th>InformationSources: Newspapers</th>\n",
       "      <th>InformationSources: Other</th>\n",
       "      <th>InformationSources: Radio</th>\n",
       "      <th>InformationSources: Social Media</th>\n",
       "      <th>InformationSources: TV</th>\n",
       "      <th>SocialMedia</th>\n",
       "      <th>MediaConsumption</th>\n",
       "      <th>StayPositive</th>\n",
       "    </tr>\n",
       "  </thead>\n",
       "  <tbody>\n",
       "    <tr>\n",
       "      <th>0</th>\n",
       "      <td>2020-04-02</td>\n",
       "      <td>Kenya</td>\n",
       "      <td>Machakos</td>\n",
       "      <td>1999</td>\n",
       "      <td>Male</td>\n",
       "      <td>Yes</td>\n",
       "      <td>Rural area</td>\n",
       "      <td>Corona</td>\n",
       "      <td>5</td>\n",
       "      <td>Contracting the disease</td>\n",
       "      <td>...</td>\n",
       "      <td>False</td>\n",
       "      <td>True</td>\n",
       "      <td>False</td>\n",
       "      <td>False</td>\n",
       "      <td>False</td>\n",
       "      <td>False</td>\n",
       "      <td>False</td>\n",
       "      <td>NaN</td>\n",
       "      <td>Consuming more</td>\n",
       "      <td>Nothing</td>\n",
       "    </tr>\n",
       "    <tr>\n",
       "      <th>1</th>\n",
       "      <td>2020-04-02</td>\n",
       "      <td>Kenya</td>\n",
       "      <td>Uasin Gishu</td>\n",
       "      <td>1991</td>\n",
       "      <td>Male</td>\n",
       "      <td>Yes</td>\n",
       "      <td>Urban area</td>\n",
       "      <td>High prices of goods</td>\n",
       "      <td>5</td>\n",
       "      <td>Local infections</td>\n",
       "      <td>...</td>\n",
       "      <td>False</td>\n",
       "      <td>True</td>\n",
       "      <td>False</td>\n",
       "      <td>False</td>\n",
       "      <td>False</td>\n",
       "      <td>True</td>\n",
       "      <td>True</td>\n",
       "      <td>Media outlets</td>\n",
       "      <td>Consuming more</td>\n",
       "      <td>Hope</td>\n",
       "    </tr>\n",
       "    <tr>\n",
       "      <th>2</th>\n",
       "      <td>2020-04-02</td>\n",
       "      <td>Nigeria</td>\n",
       "      <td>Benue</td>\n",
       "      <td>1999</td>\n",
       "      <td>Male</td>\n",
       "      <td>Yes</td>\n",
       "      <td>Urban area</td>\n",
       "      <td>Light</td>\n",
       "      <td>5</td>\n",
       "      <td>Contracting the disease</td>\n",
       "      <td>...</td>\n",
       "      <td>False</td>\n",
       "      <td>False</td>\n",
       "      <td>False</td>\n",
       "      <td>False</td>\n",
       "      <td>False</td>\n",
       "      <td>True</td>\n",
       "      <td>False</td>\n",
       "      <td>Health organizations</td>\n",
       "      <td>Consuming more</td>\n",
       "      <td>Will go back to school soon</td>\n",
       "    </tr>\n",
       "  </tbody>\n",
       "</table>\n",
       "<p>3 rows × 55 columns</p>\n",
       "</div>"
      ],
      "text/plain": [
       "  Survey Date  Country       Admin1  BirthYear Gender Awareness Urban/Rural  \\\n",
       "0  2020-04-02    Kenya     Machakos       1999   Male       Yes  Rural area   \n",
       "1  2020-04-02    Kenya  Uasin Gishu       1991   Male       Yes  Urban area   \n",
       "2  2020-04-02  Nigeria        Benue       1999   Male       Yes  Urban area   \n",
       "\n",
       "       BiggestChallenge  LevelConcern                 Concerns  ...  \\\n",
       "0                Corona             5  Contracting the disease  ...   \n",
       "1  High prices of goods             5         Local infections  ...   \n",
       "2                 Light             5  Contracting the disease  ...   \n",
       "\n",
       "  InformationSources: Friends/family InformationSources: Government messages  \\\n",
       "0                              False                                    True   \n",
       "1                              False                                    True   \n",
       "2                              False                                   False   \n",
       "\n",
       "  InformationSources: Newspapers  InformationSources: Other  \\\n",
       "0                          False                      False   \n",
       "1                          False                      False   \n",
       "2                          False                      False   \n",
       "\n",
       "   InformationSources: Radio  InformationSources: Social Media  \\\n",
       "0                      False                             False   \n",
       "1                      False                              True   \n",
       "2                      False                              True   \n",
       "\n",
       "   InformationSources: TV           SocialMedia MediaConsumption  \\\n",
       "0                   False                   NaN   Consuming more   \n",
       "1                    True         Media outlets   Consuming more   \n",
       "2                   False  Health organizations   Consuming more   \n",
       "\n",
       "                  StayPositive  \n",
       "0                      Nothing  \n",
       "1                         Hope  \n",
       "2  Will go back to school soon  \n",
       "\n",
       "[3 rows x 55 columns]"
      ]
     },
     "execution_count": 198,
     "metadata": {},
     "output_type": "execute_result"
    }
   ],
   "source": [
    "data2.head(3)"
   ]
  },
  {
   "cell_type": "code",
   "execution_count": 199,
   "metadata": {},
   "outputs": [
    {
     "name": "stdout",
     "output_type": "stream",
     "text": [
      "<class 'pandas.core.frame.DataFrame'>\n",
      "RangeIndex: 4788 entries, 0 to 4787\n",
      "Data columns (total 55 columns):\n",
      " #   Column                                           Non-Null Count  Dtype         \n",
      "---  ------                                           --------------  -----         \n",
      " 0   Survey Date                                      4788 non-null   datetime64[ns]\n",
      " 1   Country                                          4788 non-null   object        \n",
      " 2   Admin1                                           4788 non-null   object        \n",
      " 3   BirthYear                                        4788 non-null   int64         \n",
      " 4   Gender                                           4788 non-null   object        \n",
      " 5   Awareness                                        4788 non-null   object        \n",
      " 6   Urban/Rural                                      4788 non-null   object        \n",
      " 7   BiggestChallenge                                 2400 non-null   object        \n",
      " 8   LevelConcern                                     4788 non-null   int64         \n",
      " 9   Concerns                                         4788 non-null   object        \n",
      " 10  RiskAwareness                                    4788 non-null   object        \n",
      " 11  Tested                                           4788 non-null   object        \n",
      " 12  VirusPrevention                                  4788 non-null   object        \n",
      " 13  PreventativeMeasures: Avoiding public places     4788 non-null   bool          \n",
      " 14  PreventativeMeasures: Avoiding public transport  4788 non-null   bool          \n",
      " 15  PreventativeMeasures: Increasing hygiene         4788 non-null   bool          \n",
      " 16  PreventativeMeasures: Other                      4788 non-null   bool          \n",
      " 17  PreventativeMeasures: Working from home          4788 non-null   bool          \n",
      " 18  HandWashing                                      4788 non-null   object        \n",
      " 19  SocialDistancing                                 4788 non-null   object        \n",
      " 20  HealthBehavior                                   4788 non-null   object        \n",
      " 21  EconomicImpact                                   4788 non-null   int64         \n",
      " 22  MarketOperability                                4788 non-null   object        \n",
      " 23  FoodLocations                                    4788 non-null   object        \n",
      " 24  FoodLocations2                                   2441 non-null   object        \n",
      " 25  FoodShopping                                     4788 non-null   object        \n",
      " 26  FoodAmount                                       4788 non-null   object        \n",
      " 27  Foodworry                                        4788 non-null   object        \n",
      " 28  BrandPurchase                                    3818 non-null   object        \n",
      " 29  NonEssentialItems                                4788 non-null   object        \n",
      " 30  GovernmentTrust                                  4788 non-null   int64         \n",
      " 31  CommercialTrust: Banks                           4788 non-null   bool          \n",
      " 32  CommercialTrust: Brands                          4788 non-null   bool          \n",
      " 33  CommercialTrust: Other                           4788 non-null   bool          \n",
      " 34  CommercialTrust: Retailers                       4788 non-null   bool          \n",
      " 35  CommercialTrust: Telecommuncations               4788 non-null   bool          \n",
      " 36  InitiativeTaken: Limited store traffic           4788 non-null   bool          \n",
      " 37  InitiativeTaken: None                            4788 non-null   bool          \n",
      " 38  InitiativeTaken: Sectioned intercepts            4788 non-null   bool          \n",
      " 39  InitiativeTaken: Staff in protective gear        4788 non-null   bool          \n",
      " 40  Groups: Brands                                   4788 non-null   bool          \n",
      " 41  Groups: Governments                              4788 non-null   bool          \n",
      " 42  Groups: NGOs                                     4788 non-null   bool          \n",
      " 43  Groups: Private Sector                           4788 non-null   bool          \n",
      " 44  Groups: Retailers                                4788 non-null   bool          \n",
      " 45  InformationSources: Friends/family               4788 non-null   bool          \n",
      " 46  InformationSources: Government messages          4788 non-null   bool          \n",
      " 47  InformationSources: Newspapers                   4788 non-null   bool          \n",
      " 48  InformationSources: Other                        4788 non-null   bool          \n",
      " 49  InformationSources: Radio                        4788 non-null   bool          \n",
      " 50  InformationSources: Social Media                 4788 non-null   bool          \n",
      " 51  InformationSources: TV                           4788 non-null   bool          \n",
      " 52  SocialMedia                                      1905 non-null   object        \n",
      " 53  MediaConsumption                                 4788 non-null   object        \n",
      " 54  StayPositive                                     2399 non-null   object        \n",
      "dtypes: bool(26), datetime64[ns](1), int64(4), object(24)\n",
      "memory usage: 1.2+ MB\n"
     ]
    }
   ],
   "source": [
    "data2.info()"
   ]
  },
  {
   "cell_type": "markdown",
   "metadata": {},
   "source": [
    "**The database (data2) examine perceptions and the impact of COVID-19 in 12 countries throughout sub-Saharan Africa. \n",
    "Topics covered include greatest concerns surrounding coronavirus, preventative measures being taken, \n",
    "changes in food market operability and food security, etc.\n",
    "The database contains 4788 lines and 55 variables.**"
   ]
  },
  {
   "cell_type": "markdown",
   "metadata": {},
   "source": [
    "## A- Trend analysis of the disease in the two countries"
   ]
  },
  {
   "cell_type": "markdown",
   "metadata": {},
   "source": [
    "### Question\n",
    "**1**. What is the progression of the disease (in terms of mortality and number of infected persons) in these two countries?"
   ]
  },
  {
   "cell_type": "code",
   "execution_count": 200,
   "metadata": {},
   "outputs": [],
   "source": [
    "df1 = data1[(data1.location.isin([\"Ghana\", \"Rwanda\"]))]"
   ]
  },
  {
   "cell_type": "code",
   "execution_count": 201,
   "metadata": {},
   "outputs": [
    {
     "data": {
      "image/png": "[encoded data removed]",
      "text/plain": [
       "<Figure size 432x288 with 1 Axes>"
      ]
     },
     "metadata": {},
     "output_type": "display_data"
    }
   ],
   "source": [
    "fig1= sns.lineplot(x='date', y='total_cases', \n",
    "                   hue='location', data=df1, legend = False)\n",
    "fig1.set(xlabel=\"Date\", ylabel=\"Total cases\", \n",
    "         title=\"Trend in the number of cases of infected persons\")\n",
    "plt.xticks(rotation=45)\n",
    "plt.legend(title=\"Country\", loc='upper left', labels=['Ghana', 'Rwanda'])\n",
    "plt.show()"
   ]
  },
  {
   "cell_type": "code",
   "execution_count": 202,
   "metadata": {},
   "outputs": [
    {
     "name": "stdout",
     "output_type": "stream",
     "text": [
      "Totat of infected persons in Rwanda: 212\n",
      "To now, almost 1671 people have been infected in Ghana\n"
     ]
    }
   ],
   "source": [
    "print('Totat of infected persons in Rwanda:',df1[df1.location == 'Rwanda'].total_cases.max())\n",
    "print('To now, almost {} people have been infected in Ghana'.format(df1[df1.location == 'Ghana'].total_cases.max()))"
   ]
  },
  {
   "cell_type": "code",
   "execution_count": 203,
   "metadata": {},
   "outputs": [
    {
     "data": {
      "image/png": "[encoded data removed]",
      "text/plain": [
       "<Figure size 432x288 with 1 Axes>"
      ]
     },
     "metadata": {},
     "output_type": "display_data"
    }
   ],
   "source": [
    "fig2= sns.lineplot(x='date', y='total_deaths',\n",
    "                   hue='location', data=df1, legend = False)\n",
    "fig2.set(xlabel=\"Date\", ylabel=\"total_deaths\",\n",
    "         title=\"Trend in the number of cases of death\")\n",
    "plt.xticks(rotation=45)\n",
    "plt.legend(title=\"Country\", loc='upper left', labels=['Ghana', 'Rwanda'])\n",
    "plt.show()"
   ]
  },
  {
   "cell_type": "code",
   "execution_count": 204,
   "metadata": {},
   "outputs": [
    {
     "name": "stdout",
     "output_type": "stream",
     "text": [
      "Totat of death in Rwanda: 0\n",
      "To now, almost 16 people dead in Ghana\n"
     ]
    }
   ],
   "source": [
    "print('Totat of death in Rwanda:',df1[df1.location == 'Rwanda'].total_deaths.max())\n",
    "print('To now, almost {} people dead in Ghana'.format(df1[df1.location == 'Ghana'].total_deaths.max()))"
   ]
  },
  {
   "cell_type": "markdown",
   "metadata": {},
   "source": [
    "### Discussion\n",
    "The results show a net evolution of the contamination of the disease in Ghana than in Rwanda. After more than a month, Ghana has registered nearly 1550 infected persons with 11 deaths while Rwanda remains at 0 with nearly 207 cases of infections. We can conclude that the virus evolves more rapidly in Ghana than in Rwanda. "
   ]
  },
  {
   "cell_type": "markdown",
   "metadata": {},
   "source": [
    "## B- Perceptions and the impact of COVID-19 "
   ]
  },
  {
   "cell_type": "markdown",
   "metadata": {},
   "source": [
    "### Question\n",
    "**2**. What is their level of involvement and **3**. knowledge of the risk of this virus in these countries? \n",
    "The degree of their involvement was measured from 1 (less concerned) to 5 (very concerned)."
   ]
  },
  {
   "cell_type": "code",
   "execution_count": 205,
   "metadata": {},
   "outputs": [],
   "source": [
    "df2=data2[(data2.Country.isin([\"Ghana\", \"Rwanda\"]))]"
   ]
  },
  {
   "cell_type": "code",
   "execution_count": 206,
   "metadata": {},
   "outputs": [
    {
     "data": {
      "text/plain": [
       "[Text(0,0.5,''), Text(0.5,0,'Risk Awareness')]"
      ]
     },
     "execution_count": 206,
     "metadata": {},
     "output_type": "execute_result"
    },
    {
     "data": {
      "image/png": "[encoded data removed]",
      "text/plain": [
       "<Figure size 720x720 with 2 Axes>"
      ]
     },
     "metadata": {},
     "output_type": "display_data"
    }
   ],
   "source": [
    "plt.figure(figsize=(10,10))\n",
    "plt.subplot(2,2,1)\n",
    "q2 = sns.countplot(x=\"LevelConcern\", data=df2, hue=\"Country\")\n",
    "q2.set(xlabel=\"Level of concern\")\n",
    "\n",
    "plt.subplot(2,2,2)\n",
    "q3 = sns.countplot(x=\"RiskAwareness\", data=df2, hue=\"Country\")\n",
    "q3.legend_.remove()\n",
    "q3.set(ylabel='', xlabel=\"Risk Awareness\")"
   ]
  },
  {
   "cell_type": "code",
   "execution_count": 207,
   "metadata": {
    "scrolled": true
   },
   "outputs": [
    {
     "name": "stdout",
     "output_type": "stream",
     "text": [
      "Country  LevelConcern\n",
      "Ghana    5               315\n",
      "         4                43\n",
      "         3                21\n",
      "         1                16\n",
      "         2                 5\n",
      "Rwanda   5               324\n",
      "         1                43\n",
      "         4                16\n",
      "         2                11\n",
      "         3                 6\n",
      "Name: LevelConcern, dtype: int64\n",
      "Country  RiskAwareness\n",
      "Ghana    Yes              259\n",
      "         No               141\n",
      "Rwanda   No               254\n",
      "         Yes              146\n",
      "Name: RiskAwareness, dtype: int64\n"
     ]
    }
   ],
   "source": [
    "print(df2.groupby('Country')[\"LevelConcern\"].value_counts())\n",
    "print(df2.groupby('Country')[\"RiskAwareness\"].value_counts())"
   ]
  },
  {
   "cell_type": "markdown",
   "metadata": {},
   "source": [
    "### Discussion\n",
    "Both countries have an estimated average of more than 300 people claiming to be affected by the presence of the virus. While in general both countries show the same trend, the number of people in Rwanda who say they are not concerned about the virus is higher than in Ghana. However, against all expectations, 254 people in Rwanda say they do not know the risks involved, compared to 141 people in Ghana. It appears that for this study, 65% of the population in Ghana (against 35%  in Rwanda) are aware of the dangerousness of the contrary illness.\n"
   ]
  },
  {
   "cell_type": "markdown",
   "metadata": {},
   "source": [
    "### Question\n",
    " **4**.The majority of people living either in the informal sector or in daily work, what is their perception of the impact (measured on a scale of 1 to 5) of the virus on the economy of their country."
   ]
  },
  {
   "cell_type": "code",
   "execution_count": 208,
   "metadata": {},
   "outputs": [
    {
     "data": {
      "text/plain": [
       "Text(0.5,1,'Impact of the virus on the economie')"
      ]
     },
     "execution_count": 208,
     "metadata": {},
     "output_type": "execute_result"
    },
    {
     "data": {
      "image/png": "[encoded data removed]",
      "text/plain": [
       "<Figure size 432x288 with 1 Axes>"
      ]
     },
     "metadata": {},
     "output_type": "display_data"
    }
   ],
   "source": [
    "sns.countplot(x=\"EconomicImpact\", data=df2, hue=\"Country\")\n",
    "plt.xlabel(\"Perception\")\n",
    "plt.title(\"Impact of the virus on the economie\")"
   ]
  },
  {
   "cell_type": "code",
   "execution_count": 209,
   "metadata": {},
   "outputs": [
    {
     "name": "stdout",
     "output_type": "stream",
     "text": [
      "Country  EconomicImpact\n",
      "Ghana    5                 277\n",
      "         4                  60\n",
      "         3                  33\n",
      "         1                  15\n",
      "         2                  15\n",
      "Rwanda   5                 335\n",
      "         1                  44\n",
      "         4                  10\n",
      "         3                   7\n",
      "         2                   4\n",
      "Name: EconomicImpact, dtype: int64\n"
     ]
    }
   ],
   "source": [
    "print(df2.groupby('Country')[\"EconomicImpact\"].value_counts())"
   ]
  },
  {
   "cell_type": "markdown",
   "metadata": {},
   "source": [
    "### Discussion\n",
    "Respectively 277 people in Ghana and 335 people in Rwanda said that the impact of the virus on their country's economy is very high. Beyond this analysis, it is important to note that the Ghanaians (perception levels (2 to 4)) perceive more the probably very negative effects of the virus on the aconomy of their country."
   ]
  },
  {
   "cell_type": "markdown",
   "metadata": {},
   "source": [
    "## Conclusion\n",
    "The perception of the population of the virus in terms of health or economic impact seems to be practically the same in both countries. However, these data do not allow us to make a decision on the factors that have influenced the number of cases and mortality observed in the database (Dataset n°1). "
   ]
  },
  {
   "cell_type": "code",
   "execution_count": null,
   "metadata": {},
   "outputs": [],
   "source": []
  }
 ],
 "metadata": {
  "kernelspec": {
   "display_name": "Python 3.6.10 64-bit ('base': conda)",
   "language": "python",
   "name": "python361064bitbaseconda23104e51003a44379d7af35983baa4d7"
  },
  "language_info": {
   "codemirror_mode": {
    "name": "ipython",
    "version": 3
   },
   "file_extension": ".py",
   "mimetype": "text/x-python",
   "name": "python",
   "nbconvert_exporter": "python",
   "pygments_lexer": "ipython3",
   "version": "3.6.10"
  }
 },
 "nbformat": 4,
 "nbformat_minor": 4
}
